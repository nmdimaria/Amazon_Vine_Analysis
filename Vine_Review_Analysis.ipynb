{
 "cells": [
  {
   "cell_type": "code",
   "execution_count": 1,
   "metadata": {},
   "outputs": [
    {
     "output_type": "execute_result",
     "data": {
      "text/plain": "        review_id  star_rating  ...  vine  verified_purchase\n0  R2XQIKIDV9FMY7          5.0  ...     N                  Y\n1  R2YZ7T62H04KSD          1.0  ...     N                  Y\n2   RRILDINUPXKQD          5.0  ...     N                  Y\n3  R2A8HL6ZUTRE6O          3.0  ...     N                  Y\n4  R2REC2VL6TZIUA          5.0  ...     N                  Y\n\n[5 rows x 6 columns]",
      "text/html": "<div>\n<style scoped>\n    .dataframe tbody tr th:only-of-type {\n        vertical-align: middle;\n    }\n\n    .dataframe tbody tr th {\n        vertical-align: top;\n    }\n\n    .dataframe thead th {\n        text-align: right;\n    }\n</style>\n<table border=\"1\" class=\"dataframe\">\n  <thead>\n    <tr style=\"text-align: right;\">\n      <th></th>\n      <th>review_id</th>\n      <th>star_rating</th>\n      <th>helpful_votes</th>\n      <th>total_votes</th>\n      <th>vine</th>\n      <th>verified_purchase</th>\n    </tr>\n  </thead>\n  <tbody>\n    <tr>\n      <th>0</th>\n      <td>R2XQIKIDV9FMY7</td>\n      <td>5.0</td>\n      <td>2.0</td>\n      <td>3.0</td>\n      <td>N</td>\n      <td>Y</td>\n    </tr>\n    <tr>\n      <th>1</th>\n      <td>R2YZ7T62H04KSD</td>\n      <td>1.0</td>\n      <td>0.0</td>\n      <td>1.0</td>\n      <td>N</td>\n      <td>Y</td>\n    </tr>\n    <tr>\n      <th>2</th>\n      <td>RRILDINUPXKQD</td>\n      <td>5.0</td>\n      <td>1.0</td>\n      <td>1.0</td>\n      <td>N</td>\n      <td>Y</td>\n    </tr>\n    <tr>\n      <th>3</th>\n      <td>R2A8HL6ZUTRE6O</td>\n      <td>3.0</td>\n      <td>0.0</td>\n      <td>0.0</td>\n      <td>N</td>\n      <td>Y</td>\n    </tr>\n    <tr>\n      <th>4</th>\n      <td>R2REC2VL6TZIUA</td>\n      <td>5.0</td>\n      <td>0.0</td>\n      <td>0.0</td>\n      <td>N</td>\n      <td>Y</td>\n    </tr>\n  </tbody>\n</table>\n</div>"
     },
     "metadata": {},
     "execution_count": 1
    }
   ],
   "source": [
    "# Import dependencies\n",
    "import pandas as pd\n",
    "\n",
    "# Import dataframe\n",
    "vine_data = pd.read_csv('Resources/vine_table.csv')\n",
    "vine_df = pd.DataFrame(data=vine_data)\n",
    "vine_df.head()"
   ]
  },
  {
   "cell_type": "code",
   "execution_count": 11,
   "metadata": {},
   "outputs": [
    {
     "output_type": "execute_result",
     "data": {
      "text/plain": "16520"
     },
     "metadata": {},
     "execution_count": 11
    }
   ],
   "source": [
    "# Filter the data and create a new DataFrame or table to retrieve all the rows where the total_votes count is equal to or greater than 20\n",
    "clean_vine_df = vine_df.loc[vine_df['total_votes'] >= 20]\n",
    "len(clean_vine_df)"
   ]
  },
  {
   "cell_type": "code",
   "execution_count": 14,
   "metadata": {},
   "outputs": [
    {
     "output_type": "execute_result",
     "data": {
      "text/plain": "14537"
     },
     "metadata": {},
     "execution_count": 14
    }
   ],
   "source": [
    "# Create a new DataFrame or table to retrieve all the rows where the number of helpful_votes divided by total_votes is equal to or greater than 50%.\n",
    "cleaner_vine_df = clean_vine_df.loc[(clean_vine_df['helpful_votes']/cleaner_vine_df['total_votes']) >= (.5)]\n",
    "len(cleaner_vine_df)"
   ]
  },
  {
   "cell_type": "code",
   "execution_count": 25,
   "metadata": {},
   "outputs": [],
   "source": [
    "#Filter the DataFrame or table created in Step 2, and create a new DataFrame or table that retrieves all the rows where a review was or was not written as part of the Vine program\n",
    "paid_df = cleaner_vine_df.loc[cleaner_vine_df['vine'] == 'Y']\n",
    "unpaid_df = cleaner_vine_df.loc[cleaner_vine_df['vine'] == 'N']\n",
    "paid_reviews = len(paid_df)\n",
    "unpaid_reviews = len(unpaid_df)"
   ]
  },
  {
   "cell_type": "code",
   "execution_count": 20,
   "metadata": {},
   "outputs": [],
   "source": [
    "# Determine the total number of reviews, the number of 5-star reviews, and the percentage of 5-star reviews for the two types of review (paid vs unpaid)\n",
    "total_reviews = len(cleaner_vine_df)\n",
    "five_star_reviews = len(cleaner_vine_df.loc[cleaner_vine_df['star_rating']==5.0])\n",
    "paid_5star_reviews = len(paid_df.loc[paid_df['star_rating']==5.0])\n",
    "unpaid_5star_reviews = len(unpaid_df.loc[unpaid_df['star_rating']==5.0])"
   ]
  },
  {
   "cell_type": "code",
   "execution_count": 38,
   "metadata": {},
   "outputs": [],
   "source": [
    "review_data = {'value': ['total', 'five star', 'percentage'],\n",
    "'total_reviews': [total_reviews, five_star_reviews, (five_star_reviews/total_reviews)],\n",
    "    'paid': [paid_reviews, paid_5star_reviews, (paid_5star_reviews/paid_reviews)], \n",
    "    'unpaid': [unpaid_reviews, unpaid_5star_reviews, (unpaid_5star_reviews/unpaid_reviews)]}"
   ]
  },
  {
   "cell_type": "code",
   "execution_count": 39,
   "metadata": {},
   "outputs": [
    {
     "output_type": "execute_result",
     "data": {
      "text/plain": "        value  total_reviews       paid        unpaid\n0       total   14537.000000  60.000000  14477.000000\n1   five star    8246.000000  34.000000   8212.000000\n2  percentage       0.567242   0.566667      0.567245",
      "text/html": "<div>\n<style scoped>\n    .dataframe tbody tr th:only-of-type {\n        vertical-align: middle;\n    }\n\n    .dataframe tbody tr th {\n        vertical-align: top;\n    }\n\n    .dataframe thead th {\n        text-align: right;\n    }\n</style>\n<table border=\"1\" class=\"dataframe\">\n  <thead>\n    <tr style=\"text-align: right;\">\n      <th></th>\n      <th>value</th>\n      <th>total_reviews</th>\n      <th>paid</th>\n      <th>unpaid</th>\n    </tr>\n  </thead>\n  <tbody>\n    <tr>\n      <th>0</th>\n      <td>total</td>\n      <td>14537.000000</td>\n      <td>60.000000</td>\n      <td>14477.000000</td>\n    </tr>\n    <tr>\n      <th>1</th>\n      <td>five star</td>\n      <td>8246.000000</td>\n      <td>34.000000</td>\n      <td>8212.000000</td>\n    </tr>\n    <tr>\n      <th>2</th>\n      <td>percentage</td>\n      <td>0.567242</td>\n      <td>0.566667</td>\n      <td>0.567245</td>\n    </tr>\n  </tbody>\n</table>\n</div>"
     },
     "metadata": {},
     "execution_count": 39
    }
   ],
   "source": [
    "reviews_df = pd.DataFrame(data=review_data)\n",
    "reviews_df"
   ]
  },
  {
   "cell_type": "code",
   "execution_count": null,
   "metadata": {},
   "outputs": [],
   "source": []
  }
 ],
 "metadata": {
  "language_info": {
   "codemirror_mode": {
    "name": "ipython",
    "version": 3
   },
   "file_extension": ".py",
   "mimetype": "text/x-python",
   "name": "python",
   "nbconvert_exporter": "python",
   "pygments_lexer": "ipython3",
   "version": 3
  },
  "orig_nbformat": 2,
  "kernelspec": {
   "name": "python_defaultSpec_1611518019450",
   "display_name": "Python 3.7.7 64-bit ('PythonData': conda)"
  }
 },
 "nbformat": 4,
 "nbformat_minor": 2
}